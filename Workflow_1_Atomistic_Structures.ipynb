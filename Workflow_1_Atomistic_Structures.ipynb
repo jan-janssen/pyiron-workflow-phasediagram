{
 "cells": [
  {
   "cell_type": "markdown",
   "metadata": {},
   "source": [
    "# [Workshop: Software Tools from Atomistics to Phase Diagrams](https://workshop.materialsgenomefoundation.org) \n"
   ]
  },
  {
   "cell_type": "markdown",
   "metadata": {},
   "source": [
    "## Day 1 - Atomistic simulations ([pyiron](https://pyiron.org))\n",
    "**Authors:  <u>Jan Janssen</u>, Tilmann Hickel, Jörg Neugebauer ([Max-Planck-Institut für Eisenforschung](https://www.mpie.de))**\n",
    "\n",
    "Interactive: **Creating atomistic structures with pyiron**\n",
    "\n",
    "The scope of this first exercise is to become familar with:\n",
    "* the jupyter notebook environment, \n",
    "* the pyiron project object and \n",
    "* the creation of atomistic structures."
   ]
  },
  {
   "cell_type": "markdown",
   "metadata": {},
   "source": [
    "## Reminder\n",
    "Keyboard Shortcuts used in this tutorial\n",
    "* `<tab>` - auto completion \n",
    "* `<tab> + <shift>` - documentation\n",
    "* `<shift> + <enter>` - execute cell\n",
    "* `<esc> + <a>` - new cell above\n",
    "* `<esc> + <b>` - new cell below"
   ]
  },
  {
   "cell_type": "markdown",
   "metadata": {},
   "source": [
    "## Getting Started \n",
    "Let's start by creating the first pyiron Project:"
   ]
  },
  {
   "cell_type": "raw",
   "metadata": {},
   "source": [
    "# Import the Project object\n",
    "from pyiron import ____"
   ]
  },
  {
   "cell_type": "code",
   "execution_count": 1,
   "metadata": {},
   "outputs": [],
   "source": [
    "# Import the Project object\n",
    "from pyiron import Project"
   ]
  },
  {
   "cell_type": "raw",
   "metadata": {},
   "source": [
    "# Create a Project object instance for a project \n",
    "# named atomistics\n",
    "pr = ____(\"atomistics\")"
   ]
  },
  {
   "cell_type": "code",
   "execution_count": 2,
   "metadata": {},
   "outputs": [],
   "source": [
    "# Create a Project object instance for a project \n",
    "# named atomistics\n",
    "pr = Project(\"atomistics\")"
   ]
  },
  {
   "cell_type": "raw",
   "metadata": {},
   "source": [
    "# The Project object instance, or Project for short \n",
    "# created a new folder in your current directory: \n",
    "pr.path"
   ]
  },
  {
   "cell_type": "code",
   "execution_count": 3,
   "metadata": {},
   "outputs": [
    {
     "data": {
      "text/plain": [
       "'/home/jovyan/again/atomistics/'"
      ]
     },
     "execution_count": 3,
     "metadata": {},
     "output_type": "execute_result"
    }
   ],
   "source": [
    "# The Project object instance, or Project for short \n",
    "# created a new folder in your current directory: \n",
    "pr.path"
   ]
  },
  {
   "cell_type": "markdown",
   "metadata": {},
   "source": [
    "## The Project Object\n",
    "The project object is the central object of the workflow management in pyiron. It can be used to:\n",
    "* create atomistic structure objects\n",
    "* create different kinds of atomistic simulation jobs\n",
    "* track the execution of job objects locally and on remote HPC clusters. \n",
    "\n",
    "All these features are discussed in the following. For now we focus on the creation of atomistic structures from the project object. "
   ]
  },
  {
   "cell_type": "markdown",
   "metadata": {},
   "source": [
    "### Atomistic Structures\n",
    "We start by creating a primitive fcc aluminium lattice using the ASE interface:"
   ]
  },
  {
   "cell_type": "raw",
   "metadata": {},
   "source": [
    "# Create a primitive aluminium (Al) fcc lattice: \n",
    "al_fcc = pr.create_ase_bulk(____)\n",
    "al_fcc"
   ]
  },
  {
   "cell_type": "code",
   "execution_count": 4,
   "metadata": {},
   "outputs": [
    {
     "data": {
      "text/plain": [
       "Al: [0. 0. 0.]\n",
       "pbc: [ True  True  True]\n",
       "cell: \n",
       "Cell([[0.0, 2.025, 2.025], [2.025, 0.0, 2.025], [2.025, 2.025, 0.0]])"
      ]
     },
     "execution_count": 4,
     "metadata": {},
     "output_type": "execute_result"
    }
   ],
   "source": [
    "# Create a primitive aluminium (Al) fcc lattice: \n",
    "al_fcc = pr.create_ase_bulk(\"Al\")\n",
    "al_fcc"
   ]
  },
  {
   "cell_type": "raw",
   "metadata": {},
   "source": [
    "# Create a cubic aluminium (Al) fcc lattice: \n",
    "al_fcc_cubic = pr.create_ase_bulk(____, cubic=True)\n",
    "\n",
    "# Visualise the cubic aluminium structure using NGLview: \n",
    "______.plot3d()"
   ]
  },
  {
   "cell_type": "code",
   "execution_count": 5,
   "metadata": {},
   "outputs": [
    {
     "data": {
      "application/vnd.jupyter.widget-view+json": {
       "model_id": "26ad9c8b9e9748ff85ee38997955d6d5",
       "version_major": 2,
       "version_minor": 0
      },
      "text/plain": []
     },
     "metadata": {},
     "output_type": "display_data"
    },
    {
     "data": {
      "application/vnd.jupyter.widget-view+json": {
       "model_id": "efeb13746b93422083b613a4b88b06f9",
       "version_major": 2,
       "version_minor": 0
      },
      "text/plain": [
       "NGLWidget()"
      ]
     },
     "metadata": {},
     "output_type": "display_data"
    }
   ],
   "source": [
    "# Create a cubic aluminium (Al) fcc lattice: \n",
    "al_fcc_cubic = pr.create_ase_bulk(\"Al\", cubic=True)\n",
    "\n",
    "# Visualise the cubic aluminium structure using NGLview: \n",
    "al_fcc_cubic.plot3d()"
   ]
  },
  {
   "cell_type": "markdown",
   "metadata": {},
   "source": [
    "Based on the atomistic simulation environment (ASE) pyiron can create atomistic structures with minimal inputs. Still it is also possible to define all details manually: "
   ]
  },
  {
   "cell_type": "raw",
   "metadata": {},
   "source": [
    "# Create a cubic aluminium (Al) bcc lattice:\n",
    "al_bcc_cubic = pr.create_ase_bulk(_____, crystalstructure=_____, a=3.2, cubic=True)\n",
    "\n",
    "# Compare the number of atoms (length of the structure object)\n",
    "# in the bcc lattice (2) and the fcc lattice (4):\n",
    "____(al_bcc_cubic), ____(al_fcc_cubic)"
   ]
  },
  {
   "cell_type": "code",
   "execution_count": 6,
   "metadata": {},
   "outputs": [
    {
     "data": {
      "text/plain": [
       "(2, 4)"
      ]
     },
     "execution_count": 6,
     "metadata": {},
     "output_type": "execute_result"
    }
   ],
   "source": [
    "# Create a cubic aluminium (Al) bcc lattice:\n",
    "al_bcc_cubic = pr.create_ase_bulk(\"Al\", crystalstructure=\"bcc\", a=3.2, cubic=True)\n",
    "\n",
    "# Compare the number of atoms (length of the structure object) \n",
    "# in the bcc lattice (2) and the fcc lattice (4):\n",
    "len(al_bcc_cubic), len(al_fcc_cubic)"
   ]
  },
  {
   "cell_type": "markdown",
   "metadata": {},
   "source": [
    "### Replacing atoms\n",
    "While unary systems are still interesting from an academic perspective, the goal of this workshop is to calculate phase diagrams, so we are interested in alloys. "
   ]
  },
  {
   "cell_type": "raw",
   "metadata": {},
   "source": [
    "# Create a copy of the cubic aluminium fcc structure:\n",
    "al_ni_fcc_cubic = al_fcc_cubic._____"
   ]
  },
  {
   "cell_type": "code",
   "execution_count": 7,
   "metadata": {},
   "outputs": [],
   "source": [
    "# Create a copy of the cubic aluminium fcc structure:\n",
    "al_ni_fcc_cubic = al_fcc_cubic.copy()"
   ]
  },
  {
   "cell_type": "raw",
   "metadata": {},
   "source": [
    "# Replace the first aluminium atom with an nickle (Ni) atom: \n",
    "al_ni_fcc_cubic[0] = ____\n",
    "\n",
    "# Visualise the updated structure: \n",
    "al_ni_fcc_cubic.plot3d()"
   ]
  },
  {
   "cell_type": "code",
   "execution_count": 8,
   "metadata": {},
   "outputs": [
    {
     "data": {
      "application/vnd.jupyter.widget-view+json": {
       "model_id": "24d499c8cf2b4f1da5247a1d7fb3e2fd",
       "version_major": 2,
       "version_minor": 0
      },
      "text/plain": [
       "NGLWidget()"
      ]
     },
     "metadata": {},
     "output_type": "display_data"
    }
   ],
   "source": [
    "# Replace the first aluminium atom with an nickle (Ni) atom: \n",
    "al_ni_fcc_cubic[0] = \"Ni\"\n",
    "\n",
    "# Visualise the updated structure: \n",
    "al_ni_fcc_cubic.plot3d()"
   ]
  },
  {
   "cell_type": "markdown",
   "metadata": {},
   "source": [
    "### Beyond ASE - Atomic Neighbors \n",
    "https://wiki.fysik.dtu.dk/ase/ase/build/build.html\n",
    "While the ASE atoms class already provides extensive functionality to build complex structures. pyiron extends the atoms class for example by adding specialized functionality like analysing the neighbour environment:  "
   ]
  },
  {
   "cell_type": "raw",
   "metadata": {},
   "source": [
    "# Repeat the cubic aluminium structure 5 times in each direction: \n",
    "al_large = al_fcc_cubic.repeat(___)"
   ]
  },
  {
   "cell_type": "code",
   "execution_count": 9,
   "metadata": {},
   "outputs": [],
   "source": [
    "# Repeat the cubic aluminium structure 5 times in each direction: \n",
    "al_large = al_fcc_cubic.repeat(5)"
   ]
  },
  {
   "cell_type": "raw",
   "metadata": {},
   "source": [
    "# Create the neighbor environment for the cubic aluminium structure, \n",
    "# by limiting the number of neighbors to 1000: \n",
    "al_large_neighbors = al_large.get_neighbors(num_neighbors=_____)"
   ]
  },
  {
   "cell_type": "code",
   "execution_count": 10,
   "metadata": {},
   "outputs": [],
   "source": [
    "# Create the neighbor environment for the cubic aluminium structure, \n",
    "# by limiting the number of neighbors to 1000: \n",
    "al_large_neighbors = al_large.get_neighbors(num_neighbors=1000)"
   ]
  },
  {
   "cell_type": "raw",
   "metadata": {},
   "source": [
    "# Import the matplotlib library for plotting.\n",
    "import matplotlib.pyplot as plt\n",
    "\n",
    "# Visualise the per atom neighbour distances as historgram \n",
    "# with 100 bins: \n",
    "plt.hist(al_large_neighbors.distances.flatten(), bins=____);"
   ]
  },
  {
   "cell_type": "code",
   "execution_count": 11,
   "metadata": {},
   "outputs": [
    {
     "data": {
      "image/png": "[encoded data removed]",
      "text/plain": [
       "<Figure size 432x288 with 1 Axes>"
      ]
     },
     "metadata": {
      "needs_background": "light"
     },
     "output_type": "display_data"
    }
   ],
   "source": [
    "# Import the matplotlib library for plotting.\n",
    "import matplotlib.pyplot as plt\n",
    "\n",
    "# Visualise the per atom neighbour distances as historgram \n",
    "# with 100 bins: \n",
    "plt.hist(al_large_neighbors.distances.flatten(), bins=100);"
   ]
  },
  {
   "cell_type": "markdown",
   "metadata": {},
   "source": [
    "## Special Quasi-random Structures\n",
    "Rather than replacing individual atoms one by one special quasi-random structures are used to have the most random configuration for a given concentration. More details about this method are available in the literature: \n",
    "https://doi.org/10.1103/PhysRevLett.65.353"
   ]
  },
  {
   "cell_type": "raw",
   "metadata": {},
   "source": [
    "# Create an SQS calculation job from the project object \n",
    "# named \"sqscalculation\" : \n",
    "job_sqs = pr.create_job(\n",
    "    job_type=pr.job_type.SQSJob, \n",
    "    job_name=________\n",
    ")"
   ]
  },
  {
   "cell_type": "code",
   "execution_count": 12,
   "metadata": {},
   "outputs": [],
   "source": [
    "# Create an SQS calculation job from the project object \n",
    "# named \"sqscalculation\" : \n",
    "job_sqs = pr.create_job(\n",
    "    job_type=pr.job_type.SQSJob, \n",
    "    job_name=\"sqscalculation\"\n",
    ")"
   ]
  },
  {
   "cell_type": "raw",
   "metadata": {},
   "source": [
    "# assign the large cubic aluminium fcc structure to the job object: \n",
    "job_sqs.structure = _____"
   ]
  },
  {
   "cell_type": "code",
   "execution_count": 13,
   "metadata": {},
   "outputs": [],
   "source": [
    "# assign the large cubic aluminium fcc structure to the job object: \n",
    "job_sqs.structure = al_large "
   ]
  },
  {
   "cell_type": "raw",
   "metadata": {},
   "source": [
    "# Print the input\n",
    "job_sqs.input"
   ]
  },
  {
   "cell_type": "code",
   "execution_count": 14,
   "metadata": {},
   "outputs": [
    {
     "data": {
      "application/json": {
       "iterations": "1000000.0",
       "mole_fractions": "{}",
       "n_output_structures": "1",
       "objective": "0.0",
       "weights": "None"
      },
      "text/plain": [
       "InputList({'mole_fractions': {}, 'weights': None, 'objective': 0.0, 'iterations': 1000000.0, 'n_output_structures': 1})"
      ]
     },
     "execution_count": 14,
     "metadata": {},
     "output_type": "execute_result"
    }
   ],
   "source": [
    "# Print the input\n",
    "job_sqs.input"
   ]
  },
  {
   "cell_type": "raw",
   "metadata": {},
   "source": [
    "# Set the Aluminium Nickel concentration to 50:50: \n",
    "job_sqs.input.mole_fractions = {_____: 0.5, _____:0.5}\n",
    "\n",
    "# Limit the number of iterations to 1000\n",
    "job_sqs.input.iterations = ____"
   ]
  },
  {
   "cell_type": "code",
   "execution_count": 15,
   "metadata": {},
   "outputs": [],
   "source": [
    "# Set the Aluminium Nickel concentration to 50:50: \n",
    "job_sqs.input.mole_fractions = {\"Al\": 0.5, \"Ni\":0.5}\n",
    "\n",
    "# Limit the number of iterations to 1000\n",
    "job_sqs.input.iterations = 1000"
   ]
  },
  {
   "cell_type": "raw",
   "metadata": {},
   "source": [
    "# Execute the SQS calculation by calling the run function \n",
    "# of the job object: \n",
    "job_sqs.______()"
   ]
  },
  {
   "cell_type": "code",
   "execution_count": 16,
   "metadata": {},
   "outputs": [
    {
     "name": "stdout",
     "output_type": "stream",
     "text": [
      "The job sqscalculation was saved and received the ID: 74\n",
      "Threads used: 1\n"
     ]
    }
   ],
   "source": [
    "# Execute the SQS calculation by calling the run function \n",
    "# of the job object: \n",
    "job_sqs.run()"
   ]
  },
  {
   "cell_type": "raw",
   "metadata": {},
   "source": [
    "# Display the first resulting structure \n",
    "job_sqs.list_structures()[0].plot3d()"
   ]
  },
  {
   "cell_type": "code",
   "execution_count": 17,
   "metadata": {},
   "outputs": [
    {
     "data": {
      "application/vnd.jupyter.widget-view+json": {
       "model_id": "921808dc52fd433b87f7976e6ff8e7e7",
       "version_major": 2,
       "version_minor": 0
      },
      "text/plain": [
       "NGLWidget()"
      ]
     },
     "metadata": {},
     "output_type": "display_data"
    }
   ],
   "source": [
    "# Display the first resulting structure \n",
    "job_sqs.list_structures()[0].plot3d()"
   ]
  },
  {
   "cell_type": "markdown",
   "metadata": {},
   "source": [
    "## Managing your pyiron project\n",
    "In contrast to the ASE functions which can be executed nearly instantaneous the calculation of the SQS structure requires multiple iterations and is therefore implemented as pyiron job. The same `create_job()` function is used in the following to create other atomistic simulations. Still before doing so we want to use the projecct object to inspect the calculation in the project: "
   ]
  },
  {
   "cell_type": "raw",
   "metadata": {},
   "source": [
    "# Display the table of all jobs in the current \n",
    "# project by calling the job_table function: \n",
    "___.job_table()"
   ]
  },
  {
   "cell_type": "code",
   "execution_count": 18,
   "metadata": {},
   "outputs": [
    {
     "data": {
      "text/html": [
       "<div>\n",
       "<style scoped>\n",
       "    .dataframe tbody tr th:only-of-type {\n",
       "        vertical-align: middle;\n",
       "    }\n",
       "\n",
       "    .dataframe tbody tr th {\n",
       "        vertical-align: top;\n",
       "    }\n",
       "\n",
       "    .dataframe thead th {\n",
       "        text-align: right;\n",
       "    }\n",
       "</style>\n",
       "<table border=\"1\" class=\"dataframe\">\n",
       "  <thead>\n",
       "    <tr style=\"text-align: right;\">\n",
       "      <th></th>\n",
       "      <th>id</th>\n",
       "      <th>status</th>\n",
       "      <th>chemicalformula</th>\n",
       "      <th>job</th>\n",
       "      <th>subjob</th>\n",
       "      <th>projectpath</th>\n",
       "      <th>project</th>\n",
       "      <th>timestart</th>\n",
       "      <th>timestop</th>\n",
       "      <th>totalcputime</th>\n",
       "      <th>computer</th>\n",
       "      <th>hamilton</th>\n",
       "      <th>hamversion</th>\n",
       "      <th>parentid</th>\n",
       "      <th>masterid</th>\n",
       "    </tr>\n",
       "  </thead>\n",
       "  <tbody>\n",
       "    <tr>\n",
       "      <th>0</th>\n",
       "      <td>74</td>\n",
       "      <td>finished</td>\n",
       "      <td>Al500</td>\n",
       "      <td>sqscalculation</td>\n",
       "      <td>/sqscalculation</td>\n",
       "      <td>/home/jovyan/</td>\n",
       "      <td>again/atomistics/</td>\n",
       "      <td>2020-11-09 23:36:21.096449</td>\n",
       "      <td>2020-11-09 23:36:22.060374</td>\n",
       "      <td>0.0</td>\n",
       "      <td>pyiron@jupyter-jan#1</td>\n",
       "      <td>SQSJob</td>\n",
       "      <td>0.1</td>\n",
       "      <td>None</td>\n",
       "      <td>None</td>\n",
       "    </tr>\n",
       "  </tbody>\n",
       "</table>\n",
       "</div>"
      ],
      "text/plain": [
       "   id    status chemicalformula             job           subjob  \\\n",
       "0  74  finished           Al500  sqscalculation  /sqscalculation   \n",
       "\n",
       "     projectpath            project                  timestart  \\\n",
       "0  /home/jovyan/  again/atomistics/ 2020-11-09 23:36:21.096449   \n",
       "\n",
       "                    timestop  totalcputime              computer hamilton  \\\n",
       "0 2020-11-09 23:36:22.060374           0.0  pyiron@jupyter-jan#1   SQSJob   \n",
       "\n",
       "  hamversion parentid masterid  \n",
       "0        0.1     None     None  "
      ]
     },
     "execution_count": 18,
     "metadata": {},
     "output_type": "execute_result"
    }
   ],
   "source": [
    "# Display the table of all jobs in the current \n",
    "# project by calling the job_table function: \n",
    "pr.job_table()"
   ]
  },
  {
   "cell_type": "raw",
   "metadata": {},
   "source": [
    "# Reload the job once based on it's database ID \n",
    "# using the job_id property:\n",
    "job_reload_job_id = pr.load(_____)\n",
    "\n",
    "# and once using the job_name property of the job object: \n",
    "job_reload_job_name = pr.load(____"
   ]
  },
  {
   "cell_type": "code",
   "execution_count": 19,
   "metadata": {},
   "outputs": [],
   "source": [
    "# Reload the job once based on it's database ID \n",
    "# using the job_id property:\n",
    "job_reload_job_id = pr.load(job_sqs.job_id)\n",
    "\n",
    "# and once using the job_name property of the job object: \n",
    "job_reload_job_name = pr.load(job_sqs.job_name)"
   ]
  },
  {
   "cell_type": "raw",
   "metadata": {},
   "source": [
    "# Compare the job name of both jobs: \n",
    "job_reload_job_id._____ == job_reload_job_name._____"
   ]
  },
  {
   "cell_type": "code",
   "execution_count": 20,
   "metadata": {},
   "outputs": [
    {
     "data": {
      "text/plain": [
       "True"
      ]
     },
     "execution_count": 20,
     "metadata": {},
     "output_type": "execute_result"
    }
   ],
   "source": [
    "# Compare the job name of both jobs: \n",
    "job_reload_job_id.job_name == job_reload_job_name.job_name"
   ]
  },
  {
   "cell_type": "markdown",
   "metadata": {},
   "source": [
    "## Modify SQS-calculation job\n",
    "By default pyiron is reloading existing calculations, rather than executing the same calculation again. Therefore to change the concentration of the SQS structure we set the `delete_existing_job` parameter for the `run()` function."
   ]
  },
  {
   "cell_type": "raw",
   "metadata": {},
   "source": [
    "# Set the Aluminium Nickel concentration to 80:20. \n",
    "# The concentrations have to be given as floats ranging from 0 to 1: \n",
    "job_sqs.input.mole_fractions = {\"Al\": _____, \"Ni\": ____}"
   ]
  },
  {
   "cell_type": "code",
   "execution_count": 21,
   "metadata": {},
   "outputs": [],
   "source": [
    "# Set the Aluminium Nickel concentration to 80:20. \n",
    "# The concentrations have to be given as floats ranging from 0 to 1:\n",
    "job_sqs.input.mole_fractions = {\"Al\": 0.8, \"Ni\":0.2}"
   ]
  },
  {
   "cell_type": "raw",
   "metadata": {},
   "source": [
    "# Execute the SQS calculation by calling the run function \n",
    "# with the delete_existing parameter set to true: \n",
    "job_sqs.run(delete_existing_job=_______)"
   ]
  },
  {
   "cell_type": "code",
   "execution_count": 22,
   "metadata": {},
   "outputs": [
    {
     "name": "stdout",
     "output_type": "stream",
     "text": [
      "This group does not exist in the HDF5 file sqscalculation\n",
      "The job sqscalculation was saved and received the ID: 74\n",
      "Threads used: 1\n"
     ]
    }
   ],
   "source": [
    "# Execute the SQS calculation by calling the run function \n",
    "# with the delete_existing parameter set to true: \n",
    "job_sqs.run(delete_existing_job=True)"
   ]
  },
  {
   "cell_type": "raw",
   "metadata": {},
   "source": [
    "# Display the first resulting structure \n",
    "job_sqs.list_structures()[0].plot3d()"
   ]
  },
  {
   "cell_type": "code",
   "execution_count": 23,
   "metadata": {},
   "outputs": [
    {
     "data": {
      "application/vnd.jupyter.widget-view+json": {
       "model_id": "44b0938ba2ac45c4be1a38049c824b2d",
       "version_major": 2,
       "version_minor": 0
      },
      "text/plain": [
       "NGLWidget()"
      ]
     },
     "metadata": {},
     "output_type": "display_data"
    }
   ],
   "source": [
    "# Display the first resulting structure \n",
    "job_sqs.list_structures()[0].plot3d()"
   ]
  },
  {
   "cell_type": "markdown",
   "metadata": {},
   "source": [
    "## Publications\n",
    "Finally using an integrated framework like pyiron also allows us to collect all the publications of the tools we used in a given project, to keep track of the methods in use: "
   ]
  },
  {
   "cell_type": "raw",
   "metadata": {},
   "source": [
    "# List publications used in the current project\n",
    "pr.list_publications()"
   ]
  },
  {
   "cell_type": "code",
   "execution_count": 24,
   "metadata": {
    "scrolled": true
   },
   "outputs": [
    {
     "data": {
      "text/html": [
       "<div>\n",
       "<style scoped>\n",
       "    .dataframe tbody tr th:only-of-type {\n",
       "        vertical-align: middle;\n",
       "    }\n",
       "\n",
       "    .dataframe tbody tr th {\n",
       "        vertical-align: top;\n",
       "    }\n",
       "\n",
       "    .dataframe thead th {\n",
       "        text-align: right;\n",
       "    }\n",
       "</style>\n",
       "<table border=\"1\" class=\"dataframe\">\n",
       "  <thead>\n",
       "    <tr style=\"text-align: right;\">\n",
       "      <th></th>\n",
       "      <th>author</th>\n",
       "      <th>title</th>\n",
       "      <th>journal</th>\n",
       "      <th>volume</th>\n",
       "      <th>pages</th>\n",
       "      <th>issn</th>\n",
       "      <th>doi</th>\n",
       "      <th>url</th>\n",
       "      <th>year</th>\n",
       "      <th>number</th>\n",
       "      <th>issue</th>\n",
       "      <th>numpages</th>\n",
       "      <th>month</th>\n",
       "      <th>publisher</th>\n",
       "    </tr>\n",
       "  </thead>\n",
       "  <tbody>\n",
       "    <tr>\n",
       "      <th>0</th>\n",
       "      <td>[Jan Janssen, Sudarsan Surendralal, Yury Lysogorskiy, Mira Todorova, Tilmann Hickel, Ralf Drautz, Jörg Neugebauer]</td>\n",
       "      <td>pyiron: An integrated development environment for computational materials science</td>\n",
       "      <td>Computational Materials Science</td>\n",
       "      <td>161</td>\n",
       "      <td>24 - 36</td>\n",
       "      <td>0927-0256</td>\n",
       "      <td>https://doi.org/10.1016/j.commatsci.2018.07.043</td>\n",
       "      <td>http://www.sciencedirect.com/science/article/pii/S0927025618304786</td>\n",
       "      <td>2019</td>\n",
       "      <td>NaN</td>\n",
       "      <td>NaN</td>\n",
       "      <td>NaN</td>\n",
       "      <td>NaN</td>\n",
       "      <td>NaN</td>\n",
       "    </tr>\n",
       "    <tr>\n",
       "      <th>1</th>\n",
       "      <td>[Ask Hjorth Larsen, Jens Jørgen Mortensen, Jakob Blomqvist, Ivano E Castelli, Rune Christensen, Marcin Dułak, Jesper Friis, Michael N Groves, Bjørk Hammer, Cory Hargus, Eric D Hermes, Paul C Jenni...</td>\n",
       "      <td>The atomic simulation environment—a Python library for working with atoms</td>\n",
       "      <td>Journal of Physics: Condensed Matter</td>\n",
       "      <td>29</td>\n",
       "      <td>273002</td>\n",
       "      <td>NaN</td>\n",
       "      <td>NaN</td>\n",
       "      <td>http://stacks.iop.org/0953-8984/29/i=27/a=273002</td>\n",
       "      <td>2017</td>\n",
       "      <td>27</td>\n",
       "      <td>NaN</td>\n",
       "      <td>NaN</td>\n",
       "      <td>NaN</td>\n",
       "      <td>NaN</td>\n",
       "    </tr>\n",
       "    <tr>\n",
       "      <th>2</th>\n",
       "      <td>[Zunger, A., Wei, S.-H., Ferreira, L.G., Bernard, J.E.]</td>\n",
       "      <td>Special quasirandom structures</td>\n",
       "      <td>Phys. Rev. Lett.</td>\n",
       "      <td>65</td>\n",
       "      <td>353</td>\n",
       "      <td>NaN</td>\n",
       "      <td>10.1103/PhysRevLett.65.353</td>\n",
       "      <td>https://journals.aps.org/prl/abstract/10.1103/PhysRevLett.65.353</td>\n",
       "      <td>NaN</td>\n",
       "      <td>NaN</td>\n",
       "      <td>3</td>\n",
       "      <td>0</td>\n",
       "      <td>July</td>\n",
       "      <td>American Physical Society</td>\n",
       "    </tr>\n",
       "  </tbody>\n",
       "</table>\n",
       "</div>"
      ],
      "text/plain": [
       "                                                                                                                                                                                                    author  \\\n",
       "0                                                                                       [Jan Janssen, Sudarsan Surendralal, Yury Lysogorskiy, Mira Todorova, Tilmann Hickel, Ralf Drautz, Jörg Neugebauer]   \n",
       "1  [Ask Hjorth Larsen, Jens Jørgen Mortensen, Jakob Blomqvist, Ivano E Castelli, Rune Christensen, Marcin Dułak, Jesper Friis, Michael N Groves, Bjørk Hammer, Cory Hargus, Eric D Hermes, Paul C Jenni...   \n",
       "2                                                                                                                                                  [Zunger, A., Wei, S.-H., Ferreira, L.G., Bernard, J.E.]   \n",
       "\n",
       "                                                                               title  \\\n",
       "0  pyiron: An integrated development environment for computational materials science   \n",
       "1          The atomic simulation environment—a Python library for working with atoms   \n",
       "2                                                     Special quasirandom structures   \n",
       "\n",
       "                                journal volume    pages       issn  \\\n",
       "0       Computational Materials Science    161  24 - 36  0927-0256   \n",
       "1  Journal of Physics: Condensed Matter     29   273002        NaN   \n",
       "2                      Phys. Rev. Lett.     65      353        NaN   \n",
       "\n",
       "                                               doi  \\\n",
       "0  https://doi.org/10.1016/j.commatsci.2018.07.043   \n",
       "1                                              NaN   \n",
       "2                       10.1103/PhysRevLett.65.353   \n",
       "\n",
       "                                                                  url  year  \\\n",
       "0  http://www.sciencedirect.com/science/article/pii/S0927025618304786  2019   \n",
       "1                    http://stacks.iop.org/0953-8984/29/i=27/a=273002  2017   \n",
       "2    https://journals.aps.org/prl/abstract/10.1103/PhysRevLett.65.353   NaN   \n",
       "\n",
       "  number issue numpages month                  publisher  \n",
       "0    NaN   NaN      NaN   NaN                        NaN  \n",
       "1     27   NaN      NaN   NaN                        NaN  \n",
       "2    NaN     3        0  July  American Physical Society  "
      ]
     },
     "execution_count": 24,
     "metadata": {},
     "output_type": "execute_result"
    }
   ],
   "source": [
    "# List publications used in the current project\n",
    "pr.list_publications()"
   ]
  },
  {
   "cell_type": "markdown",
   "metadata": {},
   "source": [
    "## Summary \n",
    "At the end of this section you should be able to create pyiron projects, atomistic structures and calculation jobs. \n",
    "\n",
    "Additional exercises: \n",
    "* Create a vacancy using the `del` method. \n",
    "* Identify the coordinates of the vacancy automatically by calculating the nearest neighbor distance of all atoms.\n",
    "* Replace the nearest neighbor atoms of the vacancy with a different element and visualise the structure using `plot3d()`. "
   ]
  },
  {
   "cell_type": "code",
   "execution_count": null,
   "metadata": {},
   "outputs": [],
   "source": []
  }
 ],
 "metadata": {
  "kernelspec": {
   "display_name": "Python 3",
   "language": "python",
   "name": "python3"
  },
  "language_info": {
   "codemirror_mode": {
    "name": "ipython",
    "version": 3
   },
   "file_extension": ".py",
   "mimetype": "text/x-python",
   "name": "python",
   "nbconvert_exporter": "python",
   "pygments_lexer": "ipython3",
   "version": "3.8.6"
  },
  "toc": {
   "base_numbering": 1,
   "nav_menu": {},
   "number_sections": true,
   "sideBar": true,
   "skip_h1_title": false,
   "title_cell": "Table of Contents",
   "title_sidebar": "Contents",
   "toc_cell": false,
   "toc_position": {},
   "toc_section_display": true,
   "toc_window_display": false
  }
 },
 "nbformat": 4,
 "nbformat_minor": 4
}
